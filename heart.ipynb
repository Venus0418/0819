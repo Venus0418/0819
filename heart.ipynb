{
  "nbformat": 4,
  "nbformat_minor": 0,
  "metadata": {
    "colab": {
      "name": "Untitled1.ipynb",
      "provenance": [],
      "collapsed_sections": [],
      "authorship_tag": "ABX9TyMNMiYERSkwiCKPlmMB1gwP"
    },
    "kernelspec": {
      "name": "python3",
      "display_name": "Python 3"
    }
  },
  "cells": [
    {
      "cell_type": "code",
      "metadata": {
        "id": "q5LByFYdTVZv",
        "colab": {
          "base_uri": "https://localhost:8080/",
          "height": 447
        },
        "outputId": "a9e86cc0-8f35-4970-c5b3-45dc63c2e9ae"
      },
      "source": [
        "from google.colab import drive\n",
        "import pandas as pd\n",
        "import librosa\n",
        "\n",
        "drive.mount(\"/content/drive\", force_remount=True)\n",
        "path = \"/content/drive/My Drive/SOFT SENSE/Heart Acoustic Analysis/\"\n",
        "\n",
        "L_item = pd.read_csv(path+\"Test.txt\", sep=\"\\t\", encoding = 'gb2312', header=None)\n",
        "L_item = pd.DataFrame(L_item)\n",
        "L_item = list(L_item.iloc[0:len(L_item),1])\n",
        "\n",
        "audio = \"/content/drive/My Drive/SOFT SENSE/Heart Acoustic Analysis/Video/\"+str(L_item[55])+\".mp4\"\n",
        "print(audio)\n",
        "\n",
        "x , sr = librosa.load(audio)\n",
        "print(type(x), type(sr))\n",
        "print(x.shape, sr)\n",
        "print(len(x))\n",
        "librosa.load(audio, sr=44100)\n",
        "import matplotlib.pyplot as plt\n",
        "import librosa.display\n",
        "import IPython.display as ipd\n",
        "import numpy as np\n",
        "from scipy.fftpack import fft,ifft\n",
        "import seaborn\n",
        "import IPython.display as ipd\n",
        "\n",
        "index_1 = 46000\n",
        "index_2 = 91000\n",
        "index_3 = 0\n",
        "index_4 = 220500\n",
        "temp = 20\n",
        "\n",
        "def test(item):\n",
        "    print(str(item+1)+\":\\t\"+str(L_item[item]))\n",
        "    audio = \"/content/drive/My Drive/SOFT SENSE/Heart Acoustic Analysis/Video/\"+str(L_item[item])+\".mp4\"\n",
        "    x , sr = librosa.load(audio)\n",
        "    librosa.load(audio, sr=sr*2)\n",
        "    ipd.Audio(audio)\n",
        "    xx = abs(fft(x))\n",
        "    xx1 = np.abs(fft(x))/sr\n",
        "    xx2 = xx1[range(int(sr/2))]\n",
        "    f = np.arange(len(x))\n",
        "    f2 = f[[range(int(sr/2))]]\n",
        "    plt.figure(figsize=(20, 20))\n",
        "    plt.subplot(411)\n",
        "    librosa.display.waveplot(x, sr=sr)\n",
        "    t = np.linspace(0,(len(x)-1)/sr,len(x))\n",
        "    plt.subplot(412)\n",
        "    plt.plot(t,x)\n",
        "    plt.subplot(413)\n",
        "    plt.plot(t[index_1:index_2],x[index_1:index_2])\n",
        "    plt.subplot(414)\n",
        "    plt.plot(f2,xx2)\n",
        "\n",
        "    # A\n",
        "    heartrate = x.tolist()\n",
        "    heartrate = heartrate[index_3:index_4]\n",
        "    maxvalue = max(heartrate)\n",
        "    # for i in range()\n",
        "    heartbeat = []\n",
        "    interval = []\n",
        "    print(len(heartrate))\n",
        "    for i in range(0,int(len(heartrate)/sr)-2):\n",
        "        maxvalue = max(heartrate)\n",
        "        maxindex = heartrate.index(maxvalue)\n",
        "        heartbeat.append(maxindex/sr)\n",
        "        for j in range(maxindex-int(sr/temp),maxindex+int(sr/temp)):\n",
        "            heartrate[j] = 0\n",
        "    heartbeat = sorted(heartbeat)\n",
        "    for i in range(0,len(heartbeat)-1):\n",
        "        interval.append(heartbeat[i+1] - heartbeat[i])\n",
        "    heartbeat = [round(i,1) for i in heartbeat]\n",
        "    interval = [round(i,1) for i in interval]\n",
        "    print(heartbeat)\n",
        "    print(interval)\n",
        "\n",
        "for i in range(55,56):\n",
        "    test(i)"
      ],
      "execution_count": null,
      "outputs": [
        {
          "output_type": "stream",
          "text": [
            "Go to this URL in a browser: https://accounts.google.com/o/oauth2/auth?client_id=947318989803-6bn6qk8qdgf4n4g3pfee6491hc0brc4i.apps.googleusercontent.com&redirect_uri=urn%3aietf%3awg%3aoauth%3a2.0%3aoob&scope=email%20https%3a%2f%2fwww.googleapis.com%2fauth%2fdocs.test%20https%3a%2f%2fwww.googleapis.com%2fauth%2fdrive%20https%3a%2f%2fwww.googleapis.com%2fauth%2fdrive.photos.readonly%20https%3a%2f%2fwww.googleapis.com%2fauth%2fpeopleapi.readonly%20https%3a%2f%2fwww.googleapis.com%2fauth%2fdrive.activity.readonly&response_type=code\n",
            "\n",
            "Enter your authorization code:\n",
            "\n"
          ],
          "name": "stdout"
        },
        {
          "output_type": "error",
          "ename": "ValueError",
          "evalue": "ignored",
          "traceback": [
            "\u001b[0;31m---------------------------------------------------------------------------\u001b[0m",
            "\u001b[0;31mValueError\u001b[0m                                Traceback (most recent call last)",
            "\u001b[0;32m<ipython-input-1-f037f19fa5ae>\u001b[0m in \u001b[0;36m<module>\u001b[0;34m()\u001b[0m\n\u001b[1;32m      3\u001b[0m \u001b[0;32mimport\u001b[0m \u001b[0mlibrosa\u001b[0m\u001b[0;34m\u001b[0m\u001b[0;34m\u001b[0m\u001b[0m\n\u001b[1;32m      4\u001b[0m \u001b[0;34m\u001b[0m\u001b[0m\n\u001b[0;32m----> 5\u001b[0;31m \u001b[0mdrive\u001b[0m\u001b[0;34m.\u001b[0m\u001b[0mmount\u001b[0m\u001b[0;34m(\u001b[0m\u001b[0;34m\"/content/drive\"\u001b[0m\u001b[0;34m,\u001b[0m \u001b[0mforce_remount\u001b[0m\u001b[0;34m=\u001b[0m\u001b[0;32mTrue\u001b[0m\u001b[0;34m)\u001b[0m\u001b[0;34m\u001b[0m\u001b[0;34m\u001b[0m\u001b[0m\n\u001b[0m\u001b[1;32m      6\u001b[0m \u001b[0mpath\u001b[0m \u001b[0;34m=\u001b[0m \u001b[0;34m\"/content/drive/My Drive/SOFT SENSE/Heart Acoustic Analysis/\"\u001b[0m\u001b[0;34m\u001b[0m\u001b[0;34m\u001b[0m\u001b[0m\n\u001b[1;32m      7\u001b[0m \u001b[0;34m\u001b[0m\u001b[0m\n",
            "\u001b[0;32m/usr/local/lib/python3.6/dist-packages/google/colab/drive.py\u001b[0m in \u001b[0;36mmount\u001b[0;34m(mountpoint, force_remount, timeout_ms, use_metadata_server)\u001b[0m\n\u001b[1;32m    263\u001b[0m       \u001b[0mwrote_to_fifo\u001b[0m \u001b[0;34m=\u001b[0m \u001b[0;32mTrue\u001b[0m\u001b[0;34m\u001b[0m\u001b[0;34m\u001b[0m\u001b[0m\n\u001b[1;32m    264\u001b[0m     \u001b[0;32melif\u001b[0m \u001b[0mcase\u001b[0m \u001b[0;34m==\u001b[0m \u001b[0;36m5\u001b[0m\u001b[0;34m:\u001b[0m\u001b[0;34m\u001b[0m\u001b[0;34m\u001b[0m\u001b[0m\n\u001b[0;32m--> 265\u001b[0;31m       \u001b[0;32mraise\u001b[0m \u001b[0mValueError\u001b[0m\u001b[0;34m(\u001b[0m\u001b[0;34m'mount failed: invalid oauth code'\u001b[0m\u001b[0;34m)\u001b[0m\u001b[0;34m\u001b[0m\u001b[0;34m\u001b[0m\u001b[0m\n\u001b[0m\u001b[1;32m    266\u001b[0m     \u001b[0;32melif\u001b[0m \u001b[0mcase\u001b[0m \u001b[0;34m==\u001b[0m \u001b[0;36m6\u001b[0m\u001b[0;34m:\u001b[0m\u001b[0;34m\u001b[0m\u001b[0;34m\u001b[0m\u001b[0m\n\u001b[1;32m    267\u001b[0m       raise ValueError(\n",
            "\u001b[0;31mValueError\u001b[0m: mount failed: invalid oauth code"
          ]
        }
      ]
    }
  ]
}